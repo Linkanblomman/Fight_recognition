{
  "nbformat": 4,
  "nbformat_minor": 0,
  "metadata": {
    "colab": {
      "name": "prepare_video_data.ipynb",
      "provenance": [],
      "collapsed_sections": [],
      "mount_file_id": "1S7f3NdGNpkgLl1B8QRJW76TEBTfWfq9L",
      "authorship_tag": "ABX9TyOe+MNZOo6ugSecAdD51N3b",
      "include_colab_link": true
    },
    "kernelspec": {
      "name": "python3",
      "display_name": "Python 3"
    }
  },
  "cells": [
    {
      "cell_type": "markdown",
      "metadata": {
        "id": "view-in-github",
        "colab_type": "text"
      },
      "source": [
        "<a href=\"https://colab.research.google.com/github/Linkanblomman/Fight_recognition/blob/master/prepare_video_data.ipynb\" target=\"_parent\"><img src=\"https://colab.research.google.com/assets/colab-badge.svg\" alt=\"Open In Colab\"/></a>"
      ]
    },
    {
      "cell_type": "code",
      "metadata": {
        "id": "ixhj9x2Zp6DY",
        "colab_type": "code",
        "colab": {}
      },
      "source": [
        "!ln -s \"/content/drive/My Drive/Colab_Notebooks/fight_recognition/\" /content/fight_recognition"
      ],
      "execution_count": null,
      "outputs": []
    },
    {
      "cell_type": "code",
      "metadata": {
        "id": "Osoas7W0qToi",
        "colab_type": "code",
        "colab": {}
      },
      "source": [
        "import pandas as pd\n",
        "\n",
        "# The pickle module implements binary protocols for serializing and de-serializing a Python object structure.\n",
        "import joblib # serialization/deserialization\n",
        "\n",
        "#import shutil\n",
        "import os\n",
        "import numpy as np\n",
        "\n",
        "from tqdm import tqdm\n",
        "from sklearn.preprocessing import LabelBinarizer"
      ],
      "execution_count": 18,
      "outputs": []
    },
    {
      "cell_type": "code",
      "metadata": {
        "id": "uKqGFTrJqW22",
        "colab_type": "code",
        "colab": {
          "base_uri": "https://localhost:8080/",
          "height": 54
        },
        "outputId": "c950e794-5eb2-4a8f-fad2-37b23c8d4103"
      },
      "source": [
        "PATH  = \"./fight_recognition/input/video_data\"\n",
        "all_paths = os.listdir(PATH) # returns a list containing the names of the entries in the directory given by path. \n",
        "folder_paths = [x for x in all_paths if os.path.isdir( PATH + '/' + x)]\n",
        "print(f\"Folder paths: {folder_paths}\")\n",
        "print(f\"Number of folders: {len(folder_paths)}\")"
      ],
      "execution_count": 19,
      "outputs": [
        {
          "output_type": "stream",
          "text": [
            "Folder paths: ['nofight', 'fight']\n",
            "Number of folders: 2\n"
          ],
          "name": "stdout"
        }
      ]
    },
    {
      "cell_type": "code",
      "metadata": {
        "id": "HKBRZha8qnVP",
        "colab_type": "code",
        "colab": {}
      },
      "source": [
        "# we will create the data for the following labels, \n",
        "# add more to list to use those for creating the data as well\n",
        "create_labels = ['fight', 'nofight']\n",
        "\n",
        "# create a DataFrame\n",
        "data = pd.DataFrame()"
      ],
      "execution_count": 20,
      "outputs": []
    },
    {
      "cell_type": "code",
      "metadata": {
        "id": "ei9g9Gk-qrnc",
        "colab_type": "code",
        "colab": {}
      },
      "source": [
        "labels = []\n",
        "counter = 0\n",
        "for i, folder_path in tqdm(enumerate(folder_paths), total=len(folder_paths)):\n",
        "    if folder_path not in create_labels:\n",
        "        continue\n",
        "    video_paths = os.listdir(PATH + '/' + folder_path)\n",
        "    label = folder_path\n",
        "    # save video paths in the DataFrame\n",
        "    for video_path in video_paths:\n",
        "            data.loc[counter, 'video_path'] = PATH + f\"/{folder_path}/{video_path}\"\n",
        "            labels.append(label)\n",
        "            counter += 1\n",
        "\n",
        "# show dataframe \n",
        "data.head(3)"
      ],
      "execution_count": null,
      "outputs": []
    },
    {
      "cell_type": "code",
      "metadata": {
        "id": "iX6jjyqlq7EZ",
        "colab_type": "code",
        "colab": {}
      },
      "source": [
        "labels = np.array(labels)\n",
        "# one-hot encode the labels\n",
        "lb = LabelBinarizer()\n",
        "labels = lb.fit_transform(labels)"
      ],
      "execution_count": 22,
      "outputs": []
    },
    {
      "cell_type": "code",
      "metadata": {
        "id": "O3J1d0P3rKux",
        "colab_type": "code",
        "colab": {
          "base_uri": "https://localhost:8080/",
          "height": 138
        },
        "outputId": "499e1d02-d3c2-4cf0-d492-d3f61c5ffd8b"
      },
      "source": [
        "for i in range(len(labels)):\n",
        "    index = labels[i]\n",
        "    data.loc[i, 'target'] = int(index)\n",
        "\n",
        "data.head(3)"
      ],
      "execution_count": 23,
      "outputs": [
        {
          "output_type": "execute_result",
          "data": {
            "text/html": [
              "<div>\n",
              "<style scoped>\n",
              "    .dataframe tbody tr th:only-of-type {\n",
              "        vertical-align: middle;\n",
              "    }\n",
              "\n",
              "    .dataframe tbody tr th {\n",
              "        vertical-align: top;\n",
              "    }\n",
              "\n",
              "    .dataframe thead th {\n",
              "        text-align: right;\n",
              "    }\n",
              "</style>\n",
              "<table border=\"1\" class=\"dataframe\">\n",
              "  <thead>\n",
              "    <tr style=\"text-align: right;\">\n",
              "      <th></th>\n",
              "      <th>video_path</th>\n",
              "      <th>target</th>\n",
              "    </tr>\n",
              "  </thead>\n",
              "  <tbody>\n",
              "    <tr>\n",
              "      <th>0</th>\n",
              "      <td>./fight_recognition/input/video_data/nofight/n...</td>\n",
              "      <td>1.0</td>\n",
              "    </tr>\n",
              "    <tr>\n",
              "      <th>1</th>\n",
              "      <td>./fight_recognition/input/video_data/nofight/n...</td>\n",
              "      <td>1.0</td>\n",
              "    </tr>\n",
              "    <tr>\n",
              "      <th>2</th>\n",
              "      <td>./fight_recognition/input/video_data/nofight/n...</td>\n",
              "      <td>1.0</td>\n",
              "    </tr>\n",
              "  </tbody>\n",
              "</table>\n",
              "</div>"
            ],
            "text/plain": [
              "                                          video_path  target\n",
              "0  ./fight_recognition/input/video_data/nofight/n...     1.0\n",
              "1  ./fight_recognition/input/video_data/nofight/n...     1.0\n",
              "2  ./fight_recognition/input/video_data/nofight/n...     1.0"
            ]
          },
          "metadata": {
            "tags": []
          },
          "execution_count": 23
        }
      ]
    },
    {
      "cell_type": "code",
      "metadata": {
        "id": "3f9F-g8crR22",
        "colab_type": "code",
        "colab": {
          "base_uri": "https://localhost:8080/",
          "height": 217
        },
        "outputId": "1a4f2f9a-4b50-419e-ca49-392de46ad1a3"
      },
      "source": [
        "# shuffle the dataset\n",
        "data = data.sample(frac=1).reset_index(drop=True)\n",
        "\n",
        "print(f\"Number of labels or classes: {len(lb.classes_)}\")\n",
        "print(f\"The first one hot encoded labels: {labels[0]}\")\n",
        "print(f\"Mapping the first one hot encoded label to its category: {lb.classes_[0]}\")\n",
        "print(f\"Total instances: {len(data)}\")\n",
        " \n",
        "# save as CSV file\n",
        "data.to_csv('./fight_recognition/input/data.csv', index=False)\n",
        " \n",
        "# pickle the binarized labels\n",
        "print('Saving the binarized labels as pickled file')\n",
        "# Convert the object to a byte-stream\n",
        "joblib.dump(lb, './fight_recognition/outputs/lb.pkl')\n",
        " \n",
        "print(data.head(5))"
      ],
      "execution_count": 24,
      "outputs": [
        {
          "output_type": "stream",
          "text": [
            "Number of labels or classes: 2\n",
            "The first one hot encoded labels: [1]\n",
            "Mapping the first one hot encoded label to its category: fight\n",
            "Total instances: 300\n",
            "Saving the binarized labels as pickled file\n",
            "                                          video_path  target\n",
            "0  ./fight_recognition/input/video_data/fight/fi0...     0.0\n",
            "1  ./fight_recognition/input/video_data/fight/fi0...     0.0\n",
            "2  ./fight_recognition/input/video_data/fight/fi1...     0.0\n",
            "3  ./fight_recognition/input/video_data/fight/fi0...     0.0\n",
            "4  ./fight_recognition/input/video_data/nofight/n...     1.0\n"
          ],
          "name": "stdout"
        }
      ]
    }
  ]
}